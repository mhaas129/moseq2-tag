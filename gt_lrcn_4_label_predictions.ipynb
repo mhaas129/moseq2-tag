{
 "cells": [
  {
   "cell_type": "code",
   "execution_count": 1,
   "metadata": {},
   "outputs": [],
   "source": [
    "h5_file = 'U19-depth.h5'"
   ]
  },
  {
   "cell_type": "code",
   "execution_count": 2,
   "metadata": {},
   "outputs": [
    {
     "name": "stdout",
     "output_type": "stream",
     "text": [
      "[name: \"/device:CPU:0\"\n",
      "device_type: \"CPU\"\n",
      "memory_limit: 268435456\n",
      "locality {\n",
      "}\n",
      "incarnation: 12876164598493181299\n",
      ", name: \"/device:GPU:0\"\n",
      "device_type: \"GPU\"\n",
      "memory_limit: 6574322484\n",
      "locality {\n",
      "  bus_id: 1\n",
      "  links {\n",
      "  }\n",
      "}\n",
      "incarnation: 7357746677154168551\n",
      "physical_device_desc: \"device: 0, name: GeForce RTX 2080 SUPER, pci bus id: 0000:09:00.0, compute capability: 7.5\"\n",
      "]\n"
     ]
    }
   ],
   "source": [
    "from tensorflow.python.client import device_lib\n",
    "print(device_lib.list_local_devices())"
   ]
  },
  {
   "cell_type": "code",
   "execution_count": 3,
   "metadata": {},
   "outputs": [
    {
     "name": "stdout",
     "output_type": "stream",
     "text": [
      "WARNING:tensorflow:From C:\\Users\\MHaas\\.conda\\envs\\gait_tags\\lib\\site-packages\\keras\\backend\\tensorflow_backend.py:517: The name tf.placeholder is deprecated. Please use tf.compat.v1.placeholder instead.\n",
      "\n",
      "WARNING:tensorflow:From C:\\Users\\MHaas\\.conda\\envs\\gait_tags\\lib\\site-packages\\keras\\backend\\tensorflow_backend.py:4138: The name tf.random_uniform is deprecated. Please use tf.random.uniform instead.\n",
      "\n",
      "WARNING:tensorflow:From C:\\Users\\MHaas\\.conda\\envs\\gait_tags\\lib\\site-packages\\keras\\backend\\tensorflow_backend.py:4185: The name tf.truncated_normal is deprecated. Please use tf.random.truncated_normal instead.\n",
      "\n",
      "WARNING:tensorflow:From C:\\Users\\MHaas\\.conda\\envs\\gait_tags\\lib\\site-packages\\keras\\backend\\tensorflow_backend.py:3976: The name tf.nn.max_pool is deprecated. Please use tf.nn.max_pool2d instead.\n",
      "\n"
     ]
    },
    {
     "name": "stderr",
     "output_type": "stream",
     "text": [
      "Using TensorFlow backend.\n"
     ]
    },
    {
     "name": "stdout",
     "output_type": "stream",
     "text": [
      "WARNING:tensorflow:From C:\\Users\\MHaas\\.conda\\envs\\gait_tags\\lib\\site-packages\\keras\\backend\\tensorflow_backend.py:131: The name tf.get_default_graph is deprecated. Please use tf.compat.v1.get_default_graph instead.\n",
      "\n",
      "WARNING:tensorflow:From C:\\Users\\MHaas\\.conda\\envs\\gait_tags\\lib\\site-packages\\keras\\backend\\tensorflow_backend.py:133: The name tf.placeholder_with_default is deprecated. Please use tf.compat.v1.placeholder_with_default instead.\n",
      "\n",
      "WARNING:tensorflow:From C:\\Users\\MHaas\\.conda\\envs\\gait_tags\\lib\\site-packages\\keras\\backend\\tensorflow_backend.py:3445: calling dropout (from tensorflow.python.ops.nn_ops) with keep_prob is deprecated and will be removed in a future version.\n",
      "Instructions for updating:\n",
      "Please use `rate` instead of `keep_prob`. Rate should be set to `rate = 1 - keep_prob`.\n",
      "WARNING:tensorflow:Large dropout rate: 0.7 (>0.5). In TensorFlow 2.x, dropout() uses dropout rate instead of keep_prob. Please ensure that this is intended.\n",
      "WARNING:tensorflow:From C:\\Users\\MHaas\\.conda\\envs\\gait_tags\\lib\\site-packages\\keras\\backend\\tensorflow_backend.py:2974: where (from tensorflow.python.ops.array_ops) is deprecated and will be removed in a future version.\n",
      "Instructions for updating:\n",
      "Use tf.where in 2.0, which has the same broadcast rule as np.where\n",
      "WARNING:tensorflow:From C:\\Users\\MHaas\\.conda\\envs\\gait_tags\\lib\\site-packages\\keras\\backend\\tensorflow_backend.py:174: The name tf.get_default_session is deprecated. Please use tf.compat.v1.get_default_session instead.\n",
      "\n",
      "WARNING:tensorflow:From C:\\Users\\MHaas\\.conda\\envs\\gait_tags\\lib\\site-packages\\keras\\backend\\tensorflow_backend.py:181: The name tf.ConfigProto is deprecated. Please use tf.compat.v1.ConfigProto instead.\n",
      "\n",
      "WARNING:tensorflow:From C:\\Users\\MHaas\\.conda\\envs\\gait_tags\\lib\\site-packages\\keras\\backend\\tensorflow_backend.py:186: The name tf.Session is deprecated. Please use tf.compat.v1.Session instead.\n",
      "\n",
      "WARNING:tensorflow:From C:\\Users\\MHaas\\.conda\\envs\\gait_tags\\lib\\site-packages\\keras\\backend\\tensorflow_backend.py:190: The name tf.global_variables is deprecated. Please use tf.compat.v1.global_variables instead.\n",
      "\n",
      "WARNING:tensorflow:From C:\\Users\\MHaas\\.conda\\envs\\gait_tags\\lib\\site-packages\\keras\\backend\\tensorflow_backend.py:199: The name tf.is_variable_initialized is deprecated. Please use tf.compat.v1.is_variable_initialized instead.\n",
      "\n",
      "WARNING:tensorflow:From C:\\Users\\MHaas\\.conda\\envs\\gait_tags\\lib\\site-packages\\keras\\backend\\tensorflow_backend.py:206: The name tf.variables_initializer is deprecated. Please use tf.compat.v1.variables_initializer instead.\n",
      "\n",
      "WARNING:tensorflow:From C:\\Users\\MHaas\\.conda\\envs\\gait_tags\\lib\\site-packages\\keras\\optimizers.py:790: The name tf.train.Optimizer is deprecated. Please use tf.compat.v1.train.Optimizer instead.\n",
      "\n",
      "WARNING:tensorflow:From C:\\Users\\MHaas\\.conda\\envs\\gait_tags\\lib\\site-packages\\keras\\backend\\tensorflow_backend.py:3295: The name tf.log is deprecated. Please use tf.math.log instead.\n",
      "\n",
      "WARNING:tensorflow:From C:\\Users\\MHaas\\.conda\\envs\\gait_tags\\lib\\site-packages\\keras\\backend\\tensorflow_backend.py:986: The name tf.assign_add is deprecated. Please use tf.compat.v1.assign_add instead.\n",
      "\n",
      "WARNING:tensorflow:From C:\\Users\\MHaas\\.conda\\envs\\gait_tags\\lib\\site-packages\\keras\\backend\\tensorflow_backend.py:973: The name tf.assign is deprecated. Please use tf.compat.v1.assign instead.\n",
      "\n"
     ]
    }
   ],
   "source": [
    "from keras.models import load_model\n",
    "\n",
    "model = load_model('lrcn4_50e.h5')"
   ]
  },
  {
   "cell_type": "code",
   "execution_count": 4,
   "metadata": {},
   "outputs": [],
   "source": [
    "import h5py\n",
    "\n",
    "hf = h5py.File(h5_file,'r')\n",
    "tags = [n.decode('unicode_escape') for n in hf['Tags']]\n",
    "tag_indices = [[],[],[],[],[]]\n",
    "for i in range(len(tags)):\n",
    "    # Switch-case would be appropriate here\n",
    "    if tags[i] == 'dart':\n",
    "        tag_indices[0].append(i)\n",
    "    elif tags[i] == 'micro':\n",
    "        tag_indices[1].append(i)\n",
    "    elif tags[i] == 'pause':\n",
    "        tag_indices[2].append(i)\n",
    "    elif tags[i] == 'rear':\n",
    "        tag_indices[3].append(i)\n",
    "    else:\n",
    "        tag_indices[4].append(i)\n",
    "hf.close()"
   ]
  },
  {
   "cell_type": "code",
   "execution_count": 5,
   "metadata": {},
   "outputs": [
    {
     "name": "stdout",
     "output_type": "stream",
     "text": [
      "79719\n",
      "9158\n",
      "11858\n",
      "16804\n",
      "34267\n",
      "7632\n"
     ]
    }
   ],
   "source": [
    "print(len(tags))\n",
    "for i in tag_indices:\n",
    "    print(len(i))"
   ]
  },
  {
   "cell_type": "code",
   "execution_count": 6,
   "metadata": {},
   "outputs": [
    {
     "name": "stdout",
     "output_type": "stream",
     "text": [
      "b'dart'\n",
      "b'micro'\n",
      "b'pause'\n",
      "b'rear'\n",
      "b'walk'\n"
     ]
    }
   ],
   "source": [
    "hf = h5py.File(h5_file,'r')\n",
    "for x in tag_indices:\n",
    "    print(hf['Tags'][x[0]])\n",
    "hf.close()"
   ]
  },
  {
   "cell_type": "code",
   "execution_count": 7,
   "metadata": {},
   "outputs": [],
   "source": [
    "import numpy as np\n",
    "\n",
    "def fill_instances(indices,file):\n",
    "    instances = np.zeros((len(indices),30,80,80,1),np.int8)\n",
    "    hf = h5py.File(file,'r')\n",
    "    for i in range(len(indices)):\n",
    "        instances[i] = hf['Instances'][indices[i]]\n",
    "    hf.close()\n",
    "    return instances"
   ]
  },
  {
   "cell_type": "code",
   "execution_count": 8,
   "metadata": {},
   "outputs": [],
   "source": [
    "import numpy as np\n",
    "\n",
    "dart_instances = fill_instances(tag_indices[0],h5_file)\n",
    "micro_instances = fill_instances(tag_indices[1],h5_file)\n",
    "pause_instances = fill_instances(tag_indices[2],h5_file)\n",
    "rear_instances = fill_instances(tag_indices[3],h5_file)\n",
    "walk_instances = fill_instances(tag_indices[4],h5_file)"
   ]
  },
  {
   "cell_type": "code",
   "execution_count": 9,
   "metadata": {},
   "outputs": [],
   "source": [
    "dart_pred = model.predict(dart_instances)\n",
    "micro_pred = model.predict(micro_instances)\n",
    "pause_pred = model.predict(pause_instances)\n",
    "rear_pred = model.predict(rear_instances)\n",
    "walk_pred = model.predict(walk_instances)"
   ]
  },
  {
   "cell_type": "code",
   "execution_count": 10,
   "metadata": {},
   "outputs": [],
   "source": [
    "def get_stats(pred):\n",
    "    stats = np.array([0,0,0,0,0])\n",
    "    for i in pred:\n",
    "        m_index = np.where(i == np.amax(i))\n",
    "        stats[m_index[0][0]] += 1\n",
    "    return stats"
   ]
  },
  {
   "cell_type": "code",
   "execution_count": 11,
   "metadata": {},
   "outputs": [
    {
     "name": "stdout",
     "output_type": "stream",
     "text": [
      "[0.52675257 0.12928587 0.08189561 0.00251147 0.25955449]\n",
      "9158\n"
     ]
    }
   ],
   "source": [
    "dart_stats = get_stats(dart_pred)\n",
    "print(dart_stats/np.sum(dart_stats))\n",
    "print(np.sum(dart_stats))"
   ]
  },
  {
   "cell_type": "code",
   "execution_count": 12,
   "metadata": {},
   "outputs": [
    {
     "name": "stdout",
     "output_type": "stream",
     "text": [
      "[0.00480688 0.64951931 0.30797774 0.02588969 0.01180638]\n",
      "11858\n"
     ]
    }
   ],
   "source": [
    "micro_stats = get_stats(micro_pred)\n",
    "print(micro_stats/np.sum(micro_stats))\n",
    "print(np.sum(micro_stats))"
   ]
  },
  {
   "cell_type": "code",
   "execution_count": 13,
   "metadata": {},
   "outputs": [
    {
     "name": "stdout",
     "output_type": "stream",
     "text": [
      "[0.08932397 0.29623899 0.52749345 0.05849798 0.02844561]\n",
      "16804\n"
     ]
    }
   ],
   "source": [
    "pause_stats = get_stats(pause_pred)\n",
    "print(pause_stats/np.sum(pause_stats))\n",
    "print(np.sum(pause_stats))"
   ]
  },
  {
   "cell_type": "code",
   "execution_count": 14,
   "metadata": {},
   "outputs": [
    {
     "name": "stdout",
     "output_type": "stream",
     "text": [
      "[0.00668281 0.19569849 0.14996936 0.6322993  0.01535005]\n",
      "34267\n"
     ]
    }
   ],
   "source": [
    "rear_stats = get_stats(rear_pred)\n",
    "print(rear_stats/np.sum(rear_stats))\n",
    "print(np.sum(rear_stats))"
   ]
  },
  {
   "cell_type": "code",
   "execution_count": 15,
   "metadata": {},
   "outputs": [
    {
     "name": "stdout",
     "output_type": "stream",
     "text": [
      "[0.51821279 0.11517296 0.08464361 0.05686583 0.22510482]\n",
      "7632\n"
     ]
    }
   ],
   "source": [
    "walk_stats = get_stats(walk_pred)\n",
    "print(walk_stats/np.sum(walk_stats))\n",
    "print(np.sum(walk_stats))"
   ]
  },
  {
   "cell_type": "code",
   "execution_count": null,
   "metadata": {},
   "outputs": [],
   "source": []
  }
 ],
 "metadata": {
  "kernelspec": {
   "display_name": "Python 3",
   "language": "python",
   "name": "python3"
  },
  "language_info": {
   "codemirror_mode": {
    "name": "ipython",
    "version": 3
   },
   "file_extension": ".py",
   "mimetype": "text/x-python",
   "name": "python",
   "nbconvert_exporter": "python",
   "pygments_lexer": "ipython3",
   "version": "3.6.9"
  }
 },
 "nbformat": 4,
 "nbformat_minor": 2
}
