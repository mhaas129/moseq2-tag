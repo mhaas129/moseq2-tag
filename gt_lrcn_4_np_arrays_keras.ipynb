{
 "cells": [
  {
   "cell_type": "raw",
   "metadata": {},
   "source": [
    "h5_file = 'PNKD_CT-depth.h5'"
   ]
  },
  {
   "cell_type": "raw",
   "metadata": {},
   "source": [
    "import h5py\n",
    "\n",
    "hf = h5py.File(h5_file,'r')\n",
    "y_col = [n.decode('unicode_escape') for n in hf['Tags']]\n",
    "x_col = range(len(y_col))\n",
    "max_len = len(hf['Instances'][0])\n",
    "hf.close()"
   ]
  },
  {
   "cell_type": "code",
   "execution_count": 1,
   "metadata": {},
   "outputs": [
    {
     "name": "stdout",
     "output_type": "stream",
     "text": [
      "[name: \"/device:CPU:0\"\n",
      "device_type: \"CPU\"\n",
      "memory_limit: 268435456\n",
      "locality {\n",
      "}\n",
      "incarnation: 10531409180046242833\n",
      ", name: \"/device:XLA_CPU:0\"\n",
      "device_type: \"XLA_CPU\"\n",
      "memory_limit: 17179869184\n",
      "locality {\n",
      "}\n",
      "incarnation: 1962363114348024977\n",
      "physical_device_desc: \"device: XLA_CPU device\"\n",
      ", name: \"/device:GPU:0\"\n",
      "device_type: \"GPU\"\n",
      "memory_limit: 7891267104\n",
      "locality {\n",
      "  bus_id: 1\n",
      "  links {\n",
      "  }\n",
      "}\n",
      "incarnation: 5716816467249506051\n",
      "physical_device_desc: \"device: 0, name: GeForce GTX 1080, pci bus id: 0000:08:00.0, compute capability: 6.1\"\n",
      ", name: \"/device:XLA_GPU:0\"\n",
      "device_type: \"XLA_GPU\"\n",
      "memory_limit: 17179869184\n",
      "locality {\n",
      "}\n",
      "incarnation: 12331661117591132193\n",
      "physical_device_desc: \"device: XLA_GPU device\"\n",
      "]\n"
     ]
    }
   ],
   "source": [
    "from tensorflow.python.client import device_lib\n",
    "print(device_lib.list_local_devices())"
   ]
  },
  {
   "cell_type": "raw",
   "metadata": {},
   "source": [
    "from sklearn.preprocessing import LabelBinarizer\n",
    "\n",
    "l_encoder = LabelBinarizer()\n",
    "y_col_one_hot = l_encoder.fit_transform(y_col)"
   ]
  },
  {
   "cell_type": "raw",
   "metadata": {},
   "source": [
    "from sklearn.model_selection import train_test_split\n",
    "x_train, x_test, y_train, y_test = train_test_split(x_col,y_col_one_hot,test_size=0.2,random_state=0)"
   ]
  },
  {
   "cell_type": "code",
   "execution_count": 2,
   "metadata": {},
   "outputs": [],
   "source": [
    "import keras\n",
    "from keras.models import Sequential,Input,Model\n",
    "from keras.layers import Dense, Dropout, Flatten\n",
    "from keras.layers import Conv2D, MaxPooling2D\n",
    "from keras.layers.normalization import BatchNormalization\n",
    "from keras.layers.advanced_activations import LeakyReLU\n",
    "\n",
    "from keras.layers import LSTM, TimeDistributed\n",
    "from keras.layers import Convolution2D\n",
    "from keras.layers import Masking\n",
    "\n",
    "#batch_size = 200\n",
    "#batch_size = 110\n",
    "batch_size = 40\n",
    "epochs = 30\n",
    "#epochs = 15\n",
    "num_classes = 5"
   ]
  },
  {
   "cell_type": "code",
   "execution_count": 3,
   "metadata": {},
   "outputs": [
    {
     "name": "stdout",
     "output_type": "stream",
     "text": [
      "Model: \"sequential\"\n",
      "_________________________________________________________________\n",
      "Layer (type)                 Output Shape              Param #   \n",
      "=================================================================\n",
      "time_distributed (TimeDistri (None, None, 40, 40, 32)  1600      \n",
      "_________________________________________________________________\n",
      "time_distributed_1 (TimeDist (None, None, 38, 38, 32)  9248      \n",
      "_________________________________________________________________\n",
      "time_distributed_2 (TimeDist (None, None, 19, 19, 32)  0         \n",
      "_________________________________________________________________\n",
      "time_distributed_3 (TimeDist (None, None, 19, 19, 64)  18496     \n",
      "_________________________________________________________________\n",
      "time_distributed_4 (TimeDist (None, None, 19, 19, 64)  36928     \n",
      "_________________________________________________________________\n",
      "time_distributed_5 (TimeDist (None, None, 9, 9, 64)    0         \n",
      "_________________________________________________________________\n",
      "time_distributed_6 (TimeDist (None, None, 9, 9, 128)   73856     \n",
      "_________________________________________________________________\n",
      "time_distributed_7 (TimeDist (None, None, 9, 9, 128)   147584    \n",
      "_________________________________________________________________\n",
      "time_distributed_8 (TimeDist (None, None, 4, 4, 128)   0         \n",
      "_________________________________________________________________\n",
      "time_distributed_9 (TimeDist (None, None, 4, 4, 256)   295168    \n",
      "_________________________________________________________________\n",
      "time_distributed_10 (TimeDis (None, None, 4, 4, 256)   590080    \n",
      "_________________________________________________________________\n",
      "time_distributed_11 (TimeDis (None, None, 2, 2, 256)   0         \n",
      "_________________________________________________________________\n",
      "time_distributed_12 (TimeDis (None, None, 1024)        0         \n",
      "_________________________________________________________________\n",
      "dropout (Dropout)            (None, None, 1024)        0         \n",
      "_________________________________________________________________\n",
      "masking (Masking)            (None, None, 1024)        0         \n",
      "_________________________________________________________________\n",
      "lstm (LSTM)                  (None, 512)               3147776   \n",
      "_________________________________________________________________\n",
      "dense (Dense)                (None, 5)                 2565      \n",
      "=================================================================\n",
      "Total params: 4,323,301\n",
      "Trainable params: 4,323,301\n",
      "Non-trainable params: 0\n",
      "_________________________________________________________________\n"
     ]
    }
   ],
   "source": [
    "model = Sequential()\n",
    "\n",
    "model.add(TimeDistributed(Convolution2D(32, (7,7), strides=(2, 2),\n",
    "    #padding='same', activation='relu'), input_shape=self.input_shape))\n",
    "    padding='same', activation='relu'), input_shape=(None,80,80,1)))\n",
    "model.add(TimeDistributed(Convolution2D(32, (3,3),\n",
    "    kernel_initializer=\"he_normal\", activation='relu')))\n",
    "model.add(TimeDistributed(MaxPooling2D((2, 2), strides=(2, 2))))\n",
    "\n",
    "model.add(TimeDistributed(Convolution2D(64, (3,3),\n",
    "    padding='same', activation='relu')))\n",
    "model.add(TimeDistributed(Convolution2D(64, (3,3),\n",
    "    padding='same', activation='relu')))\n",
    "model.add(TimeDistributed(MaxPooling2D((2, 2), strides=(2, 2))))\n",
    "\n",
    "model.add(TimeDistributed(Convolution2D(128, (3,3),\n",
    "    padding='same', activation='relu')))\n",
    "model.add(TimeDistributed(Convolution2D(128, (3,3),\n",
    "    padding='same', activation='relu')))\n",
    "model.add(TimeDistributed(MaxPooling2D((2, 2), strides=(2, 2))))\n",
    "\n",
    "model.add(TimeDistributed(Convolution2D(256, (3,3),\n",
    "    padding='same', activation='relu')))\n",
    "model.add(TimeDistributed(Convolution2D(256, (3,3),\n",
    "    padding='same', activation='relu')))\n",
    "model.add(TimeDistributed(MaxPooling2D((2, 2), strides=(2, 2))))\n",
    "\n",
    "model.add(TimeDistributed(Flatten()))\n",
    "\n",
    "model.add(Dropout(0.7))\n",
    "model.add(Masking(mask_value=-10))\n",
    "#model.add(Masking(mask_value=-0.1))\n",
    "model.add(LSTM(512, return_sequences=False, dropout=0.5))\n",
    "model.add(Dense(num_classes, activation='softmax'))\n",
    "\n",
    "model.compile(loss=keras.losses.categorical_crossentropy, optimizer=keras.optimizers.Adam(),metrics=['accuracy'])\n",
    "model.summary()"
   ]
  },
  {
   "cell_type": "code",
   "execution_count": 4,
   "metadata": {},
   "outputs": [],
   "source": [
    "import os\n",
    "import pandas as pd\n",
    "import random\n",
    "\n",
    "train_size = 0.8\n",
    "#seed = -1\n",
    "seed = 4\n",
    "#np_dir = '/home/mhaas/Projects/moseq2_tags/PNKD_CT-U19-Opa1_R904S-5_class-zip-np_arrays'\n",
    "#labels_file = '/home/mhaas/Projects/moseq2_tags/PNKD_CT-U19-Opa1_R904S-5_class-zip-np_arrays/labels.csv'\n",
    "np_dir = '/home/mhaas/Projects/moseq2_tags/keras_dset'\n",
    "labels_file = '/home/mhaas/Projects/moseq2_tags/keras_dset/labels.csv'\n",
    "tag_df = pd.read_csv(labels_file)['Label']\n",
    "np_list = []\n",
    "for filename in sorted(os.listdir(np_dir)):\n",
    "    if filename.endswith('.npz'):\n",
    "        np_list.append(os.path.join(np_dir,filename))\n",
    "if seed != -1:\n",
    "    random.seed(seed)\n",
    "np_indices = list(range(len(np_list)))\n",
    "random.shuffle(np_indices)\n",
    "#np_indices = np_indices[:1000]#!!!DELETE!!!\n",
    "train_test_split_index = int(train_size*len(np_indices))"
   ]
  },
  {
   "cell_type": "raw",
   "metadata": {},
   "source": [
    "import numpy as np\n",
    "\n",
    "def h5_image_generator(h5_file,indices,labels,bs,cs,max_len,mode='train'):\n",
    "    index = 0\n",
    "    hf = h5py.File(h5_file,'r')\n",
    "    while True:\n",
    "        batch_insts = np.full((bs,max_len,80,80,1),-10)\n",
    "        batch_labels = np.zeros((bs,cs))\n",
    "        for i in range(bs):\n",
    "            if len(indices) <= index:\n",
    "                index = 0\n",
    "                if mode == 'eval':\n",
    "                    break\n",
    "            batch_insts[i] = hf['Instances'][indices[index]]\n",
    "            batch_labels[i] = labels[index]\n",
    "            index += 1\n",
    "        yield(batch_insts,batch_labels)"
   ]
  },
  {
   "cell_type": "code",
   "execution_count": 5,
   "metadata": {},
   "outputs": [],
   "source": [
    "import numpy as np\n",
    "#from tqdm import tqdm\n",
    "from sklearn.preprocessing import LabelBinarizer\n",
    "import matplotlib.pyplot as plt#DELETE\n",
    "\n",
    "def np_image_generator(np_indices,np_list,tag_df,bs,cs,mode='train'):\n",
    "    length  = len(np_indices)\n",
    "    x = []\n",
    "    #y = np.zeros((length),dtype=np.int64)\n",
    "    y = []\n",
    "    #for i in tqdm(range(length)):\n",
    "    #for i in tqdm(range(length)):\n",
    "    '''print('tag_df len: {}'.format(len(tag_df)))#DELETE\n",
    "    print(tag_df)#DELETE'''\n",
    "    #DELETE BELOW\n",
    "    '''for i in range(10):\n",
    "        print('index: {}\\nnp_index: {}'.format(i,np_indices[i]))\n",
    "        print('tag_df[{}]: {}'.format(i,tag_df[i]))\n",
    "        print('tag_df[{}]: {}\\n'.format(np_indices[i],tag_df[np_indices[i]]))'''\n",
    "    #DELETE ABOVE\n",
    "    for i in range(length):\n",
    "        np_index = np_indices[i]\n",
    "        #print('np_index: {}'.format(np_index))#DELETE\n",
    "        '''file = np_list[np_index]\n",
    "        x.append(file)'''\n",
    "        x.append(np_list[np_index])\n",
    "        #y[i] = tag_df[np_index]\n",
    "        y.append(tag_df[np_index])\n",
    "    l_encoder = LabelBinarizer()\n",
    "    y_one_hot = l_encoder.fit_transform(y)\n",
    "    '''print('np_indices[:10]: {}'.format(np_indices[:10]))#DELETE\n",
    "    print(y[:20])#DELETE\n",
    "    print(y_one_hot[:20])#DELETE'''\n",
    "    \n",
    "    pad_len = np.load(x[0])['arr_0'].shape[1]\n",
    "    #print('pad_len: {}'.format(pad_len))#DELETE\n",
    "    #print('pad val test, should see -10: {}'.format(np.load(x[0])['arr_0']))#DELETE\n",
    "    index = 0\n",
    "    while True:\n",
    "        batch_insts = np.full((bs,pad_len,80,80,1),-10,dtype=np.int8)#Testing with float32, that's what's used in pytorch\n",
    "        #batch_labels = np.zeros((bs,cs))\n",
    "        batch_labels = np.zeros((bs,cs),dtype=np.int8)\n",
    "        for i in range(bs):\n",
    "            if len(np_indices) <= index:\n",
    "                index = 0\n",
    "                if mode == 'eval':\n",
    "                    break\n",
    "            batch_insts[i] = np.load(x[index])['arr_0'][0].reshape(pad_len,80,80,1)\n",
    "            #batch_labels[i] = y[index]\n",
    "            batch_labels[i] = y_one_hot[index]\n",
    "            index += 1\n",
    "            '''#DELETE BELOW\n",
    "            print('------------------------------------------------------------------------')\n",
    "            #tag_index = y_one_hot[index].index(1)\n",
    "            tag_index = np.where(y_one_hot[index] == 1)[0]\n",
    "            if tag_index == 0:\n",
    "                print('dart')\n",
    "            elif tag_index == 1:\n",
    "                print('micro')\n",
    "            elif tag_index == 2:\n",
    "                print('pause')\n",
    "            elif tag_index == 3:\n",
    "                print('rear')\n",
    "            else:\n",
    "                print('walk')\n",
    "            for frame in batch_insts[i].reshape(pad_len,80,80):\n",
    "                if frame[0][0] == -10:\n",
    "                    break\n",
    "                plt.imshow(frame,cmap=plt.get_cmap('gray'),vmin=0,vmax=100)\n",
    "                plt.show()\n",
    "        break\n",
    "            #DELETE ABOVE'''\n",
    "            #'''print('batch_insts shape: {}'.format(batch_insts.shape))#DELETE\n",
    "            #print('batch_insts type: {}'.format(batch_insts.dtype))#DELETE\n",
    "            #print('batch_labels shape: {}'.format(batch_labels.shape))#DELETE\n",
    "            #print('batch_labels type: {}\\n'.format(batch_labels.dtype))#DELETE'''\n",
    "        #print('\\n{}'.format(batch_labels))#DELETE\n",
    "        yield(batch_insts,batch_labels)"
   ]
  },
  {
   "cell_type": "code",
   "execution_count": 6,
   "metadata": {},
   "outputs": [],
   "source": [
    "'''train_gen = h5_image_generator(h5_file,x_train,y_train,batch_size,\n",
    "                               num_classes,max_len)\n",
    "test_gen = h5_image_generator(h5_file,x_test,y_test,batch_size,\n",
    "                              num_classes,max_len)'''\n",
    "\n",
    "train_gen = np_image_generator(np_indices[:train_test_split_index],np_list,tag_df,batch_size,num_classes)\n",
    "test_gen = np_image_generator(np_indices[train_test_split_index:],np_list,tag_df,batch_size,num_classes)"
   ]
  },
  {
   "cell_type": "code",
   "execution_count": 7,
   "metadata": {},
   "outputs": [
    {
     "data": {
      "text/plain": [
       "0         1\n",
       "1         0\n",
       "2         1\n",
       "3         2\n",
       "4         3\n",
       "         ..\n",
       "321623    0\n",
       "321624    1\n",
       "321625    3\n",
       "321626    1\n",
       "321627    1\n",
       "Name: Label, Length: 321628, dtype: int64"
      ]
     },
     "execution_count": 7,
     "metadata": {},
     "output_type": "execute_result"
    }
   ],
   "source": [
    "tag_df"
   ]
  },
  {
   "cell_type": "code",
   "execution_count": 8,
   "metadata": {},
   "outputs": [
    {
     "name": "stdout",
     "output_type": "stream",
     "text": [
      "steps_per_epoch: 6432\n",
      "validation_steps: 1608\n"
     ]
    }
   ],
   "source": [
    "#DELETE CELL\n",
    "print('steps_per_epoch: {}'.format(train_test_split_index // batch_size))\n",
    "print('validation_steps: {}'.format((len(np_indices)-train_test_split_index) // batch_size))"
   ]
  },
  {
   "cell_type": "code",
   "execution_count": 9,
   "metadata": {
    "scrolled": true
   },
   "outputs": [
    {
     "name": "stdout",
     "output_type": "stream",
     "text": [
      "WARNING:tensorflow:From <ipython-input-9-dfd6f185941a>:8: Model.fit_generator (from tensorflow.python.keras.engine.training) is deprecated and will be removed in a future version.\n",
      "Instructions for updating:\n",
      "Please use Model.fit, which supports generators.\n",
      "Epoch 1/30\n",
      "6432/6432 [==============================] - 1154s 179ms/step - loss: 0.7758 - accuracy: 0.6804 - val_loss: 0.6193 - val_accuracy: 0.7500\n",
      "Epoch 2/30\n",
      "6432/6432 [==============================] - 1154s 179ms/step - loss: 0.6095 - accuracy: 0.7583 - val_loss: 0.5649 - val_accuracy: 0.7791\n",
      "Epoch 3/30\n",
      "6432/6432 [==============================] - 1154s 179ms/step - loss: 0.5643 - accuracy: 0.7776 - val_loss: 0.5495 - val_accuracy: 0.7859\n",
      "Epoch 4/30\n",
      "6432/6432 [==============================] - 1155s 180ms/step - loss: 0.5432 - accuracy: 0.7864 - val_loss: 0.5210 - val_accuracy: 0.7956\n",
      "Epoch 5/30\n",
      "6432/6432 [==============================] - 1154s 179ms/step - loss: 0.5330 - accuracy: 0.7905 - val_loss: 0.5180 - val_accuracy: 0.7959\n",
      "Epoch 6/30\n",
      "6432/6432 [==============================] - 1154s 179ms/step - loss: 0.5283 - accuracy: 0.7926 - val_loss: 0.5085 - val_accuracy: 0.8033\n",
      "Epoch 7/30\n",
      "6432/6432 [==============================] - 1158s 180ms/step - loss: 0.5228 - accuracy: 0.7947 - val_loss: 0.5081 - val_accuracy: 0.8011\n",
      "Epoch 8/30\n",
      "6432/6432 [==============================] - 1153s 179ms/step - loss: 0.5242 - accuracy: 0.7939 - val_loss: 0.5098 - val_accuracy: 0.8004\n",
      "Epoch 9/30\n",
      "6432/6432 [==============================] - 1152s 179ms/step - loss: 0.5234 - accuracy: 0.7953 - val_loss: 0.5057 - val_accuracy: 0.8015\n",
      "Epoch 10/30\n",
      "6432/6432 [==============================] - 1154s 179ms/step - loss: 0.5222 - accuracy: 0.7954 - val_loss: 0.5090 - val_accuracy: 0.8005\n",
      "Epoch 11/30\n",
      "6432/6432 [==============================] - 1153s 179ms/step - loss: 0.5237 - accuracy: 0.7954 - val_loss: 0.5069 - val_accuracy: 0.8019\n",
      "Epoch 12/30\n",
      "6432/6432 [==============================] - 1152s 179ms/step - loss: 0.5265 - accuracy: 0.7937 - val_loss: 0.5066 - val_accuracy: 0.8008\n",
      "Epoch 13/30\n",
      "6432/6432 [==============================] - 1153s 179ms/step - loss: 0.5337 - accuracy: 0.7911 - val_loss: 0.5202 - val_accuracy: 0.7968\n",
      "Epoch 14/30\n",
      "6432/6432 [==============================] - 1153s 179ms/step - loss: 0.5363 - accuracy: 0.7903 - val_loss: 0.5219 - val_accuracy: 0.7982\n",
      "Epoch 15/30\n",
      "6432/6432 [==============================] - 1156s 180ms/step - loss: 0.5393 - accuracy: 0.7884 - val_loss: 0.5574 - val_accuracy: 0.7819\n",
      "Epoch 16/30\n",
      "6432/6432 [==============================] - 1154s 179ms/step - loss: 0.5448 - accuracy: 0.7861 - val_loss: 0.5163 - val_accuracy: 0.8003\n",
      "Epoch 17/30\n",
      "6432/6432 [==============================] - 1154s 179ms/step - loss: 0.5479 - accuracy: 0.7851 - val_loss: 0.5559 - val_accuracy: 0.7809\n",
      "Epoch 18/30\n",
      "6432/6432 [==============================] - 1154s 179ms/step - loss: 0.5599 - accuracy: 0.7796 - val_loss: 0.5441 - val_accuracy: 0.7894\n",
      "Epoch 19/30\n",
      "6432/6432 [==============================] - 1154s 179ms/step - loss: 0.5732 - accuracy: 0.7753 - val_loss: 0.5905 - val_accuracy: 0.7669\n",
      "Epoch 20/30\n",
      "6432/6432 [==============================] - 1154s 179ms/step - loss: 0.5837 - accuracy: 0.7695 - val_loss: 0.5617 - val_accuracy: 0.7788\n",
      "Epoch 21/30\n",
      "6432/6432 [==============================] - 1154s 179ms/step - loss: 0.5883 - accuracy: 0.7688 - val_loss: 0.5623 - val_accuracy: 0.7796\n",
      "Epoch 22/30\n",
      "6432/6432 [==============================] - 1156s 180ms/step - loss: 0.6006 - accuracy: 0.7638 - val_loss: 0.5901 - val_accuracy: 0.7665\n",
      "Epoch 23/30\n",
      "6432/6432 [==============================] - 1154s 179ms/step - loss: 0.7562 - accuracy: 0.6975 - val_loss: 0.6502 - val_accuracy: 0.7413\n",
      "Epoch 24/30\n",
      "6432/6432 [==============================] - 1153s 179ms/step - loss: 0.9504 - accuracy: 0.6007 - val_loss: 1.1562 - val_accuracy: 0.5395\n",
      "Epoch 25/30\n",
      "6432/6432 [==============================] - 1152s 179ms/step - loss: 1.5412 - accuracy: 0.2858 - val_loss: 1.5741 - val_accuracy: 0.2628\n",
      "Epoch 26/30\n",
      "6432/6432 [==============================] - 1152s 179ms/step - loss: 1.5817 - accuracy: 0.2580 - val_loss: 1.5808 - val_accuracy: 0.2545\n",
      "Epoch 27/30\n",
      "6432/6432 [==============================] - 1152s 179ms/step - loss: 1.5791 - accuracy: 0.2593 - val_loss: 1.5880 - val_accuracy: 0.2503\n",
      "Epoch 28/30\n",
      "6432/6432 [==============================] - 1154s 179ms/step - loss: 1.5777 - accuracy: 0.2612 - val_loss: 1.5908 - val_accuracy: 0.2499\n",
      "Epoch 29/30\n",
      "6432/6432 [==============================] - 1153s 179ms/step - loss: 1.5777 - accuracy: 0.2611 - val_loss: 1.5778 - val_accuracy: 0.2542\n",
      "Epoch 30/30\n",
      "6432/6432 [==============================] - 1153s 179ms/step - loss: 1.5793 - accuracy: 0.2613 - val_loss: 1.5825 - val_accuracy: 0.2483\n"
     ]
    }
   ],
   "source": [
    "H = model.fit_generator(\n",
    "    train_gen,\n",
    "    #steps_per_epoch = len(x_train) // batch_size,\n",
    "    steps_per_epoch = train_test_split_index // batch_size,\n",
    "    validation_data = test_gen,\n",
    "    #validation_steps = len(x_test) // batch_size,\n",
    "    validation_steps = (len(np_indices)-train_test_split_index) // batch_size,\n",
    "    epochs = epochs)"
   ]
  },
  {
   "cell_type": "raw",
   "metadata": {},
   "source": [
    "hf.close() #MIGHT NOT DO ANYTHING, APPARENTLY FILE REMAINS OPEN IN PYHTON"
   ]
  },
  {
   "cell_type": "code",
   "execution_count": 10,
   "metadata": {},
   "outputs": [
    {
     "data": {
      "image/png": "[encoded data removed]",
      "text/plain": [
       "<Figure size 432x288 with 1 Axes>"
      ]
     },
     "metadata": {
      "needs_background": "light"
     },
     "output_type": "display_data"
    }
   ],
   "source": [
    "from matplotlib import pyplot as plt\n",
    "\n",
    "loss = H.history['loss']\n",
    "val_loss = H.history['val_loss']\n",
    "plt.figure()\n",
    "plt.plot(range(epochs), loss, 'bo', label='Training loss')\n",
    "plt.plot(range(epochs), val_loss, 'b', label='Validation loss')\n",
    "plt.title('Training and validation loss')\n",
    "plt.legend()\n",
    "plt.savefig('H_results_lrcn4_'+str(epochs)+'e.png')\n",
    "plt.show()"
   ]
  },
  {
   "cell_type": "code",
   "execution_count": 11,
   "metadata": {},
   "outputs": [],
   "source": [
    "model.save('lrcn4_'+str(epochs)+'e.h5')"
   ]
  },
  {
   "cell_type": "code",
   "execution_count": 12,
   "metadata": {},
   "outputs": [
    {
     "name": "stdout",
     "output_type": "stream",
     "text": [
      "Failed to import pydot. You must install pydot and graphviz for `pydotprint` to work.\n"
     ]
    }
   ],
   "source": [
    "from keras.utils import plot_model\n",
    "plot_model(model, to_file='lrcn4_model_'+str(epochs)+'e.png')"
   ]
  },
  {
   "cell_type": "code",
   "execution_count": 20,
   "metadata": {},
   "outputs": [
    {
     "data": {
      "image/png": "[encoded data removed]",
      "text/plain": [
       "<Figure size 432x288 with 1 Axes>"
      ]
     },
     "metadata": {
      "needs_background": "light"
     },
     "output_type": "display_data"
    }
   ],
   "source": [
    "#acc = H.history['acc']\n",
    "#val_acc = H.history['val_acc']\n",
    "acc = H.history['accuracy']\n",
    "val_acc = H.history['val_accuracy']\n",
    "plt.figure()\n",
    "plt.plot(range(epochs), acc, 'bo', label='Training accuracy')\n",
    "plt.plot(range(epochs), val_acc, 'b', label='Validation accuracy')\n",
    "plt.title('Training and validation accuracy')\n",
    "plt.legend()\n",
    "plt.savefig('H_accuracy_results_lrcn4_'+str(epochs)+'e.png')\n",
    "plt.show()"
   ]
  },
  {
   "cell_type": "code",
   "execution_count": 21,
   "metadata": {},
   "outputs": [
    {
     "data": {
      "image/png": "[encoded data removed]",
      "text/plain": [
       "<Figure size 432x288 with 1 Axes>"
      ]
     },
     "metadata": {
      "needs_background": "light"
     },
     "output_type": "display_data"
    },
    {
     "data": {
      "image/png": "[encoded data removed]",
      "text/plain": [
       "<Figure size 432x288 with 1 Axes>"
      ]
     },
     "metadata": {
      "needs_background": "light"
     },
     "output_type": "display_data"
    },
    {
     "data": {
      "image/png": "[encoded data removed]",
      "text/plain": [
       "<Figure size 432x288 with 1 Axes>"
      ]
     },
     "metadata": {
      "needs_background": "light"
     },
     "output_type": "display_data"
    },
    {
     "data": {
      "image/png": "[encoded data removed]",
      "text/plain": [
       "<Figure size 432x288 with 1 Axes>"
      ]
     },
     "metadata": {
      "needs_background": "light"
     },
     "output_type": "display_data"
    },
    {
     "data": {
      "image/png": "[encoded data removed]",
      "text/plain": [
       "<Figure size 432x288 with 1 Axes>"
      ]
     },
     "metadata": {
      "needs_background": "light"
     },
     "output_type": "display_data"
    },
    {
     "data": {
      "image/png": "[encoded data removed]",
      "text/plain": [
       "<Figure size 432x288 with 1 Axes>"
      ]
     },
     "metadata": {
      "needs_background": "light"
     },
     "output_type": "display_data"
    },
    {
     "data": {
      "image/png": "[encoded data removed]",
      "text/plain": [
       "<Figure size 432x288 with 1 Axes>"
      ]
     },
     "metadata": {
      "needs_background": "light"
     },
     "output_type": "display_data"
    },
    {
     "data": {
      "image/png": "[encoded data removed]",
      "text/plain": [
       "<Figure size 432x288 with 1 Axes>"
      ]
     },
     "metadata": {
      "needs_background": "light"
     },
     "output_type": "display_data"
    },
    {
     "data": {
      "image/png": "[encoded data removed]",
      "text/plain": [
       "<Figure size 432x288 with 1 Axes>"
      ]
     },
     "metadata": {
      "needs_background": "light"
     },
     "output_type": "display_data"
    },
    {
     "data": {
      "image/png": "[encoded data removed]",
      "text/plain": [
       "<Figure size 432x288 with 1 Axes>"
      ]
     },
     "metadata": {
      "needs_background": "light"
     },
     "output_type": "display_data"
    }
   ],
   "source": [
    "import matplotlib.pyplot as plt\n",
    "\n",
    "inst_index = 0\n",
    "inst_np = np.load(np_list[np_indices[inst_index]])['arr_0'][0]\n",
    "for frame in inst_np:\n",
    "    if frame[0][0] == -10:\n",
    "        break\n",
    "    plt.imshow(frame,cmap=plt.get_cmap('gray'),vmin=0,vmax=100)\n",
    "    plt.show()"
   ]
  },
  {
   "cell_type": "code",
   "execution_count": null,
   "metadata": {},
   "outputs": [],
   "source": []
  }
 ],
 "metadata": {
  "kernelspec": {
   "display_name": "keras",
   "language": "python",
   "name": "keras"
  },
  "language_info": {
   "codemirror_mode": {
    "name": "ipython",
    "version": 3
   },
   "file_extension": ".py",
   "mimetype": "text/x-python",
   "name": "python",
   "nbconvert_exporter": "python",
   "pygments_lexer": "ipython3",
   "version": "3.6.10"
  }
 },
 "nbformat": 4,
 "nbformat_minor": 2
}
