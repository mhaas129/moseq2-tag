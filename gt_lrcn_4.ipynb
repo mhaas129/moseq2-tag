{
 "cells": [
  {
   "cell_type": "code",
   "execution_count": 1,
   "metadata": {},
   "outputs": [],
   "source": [
    "h5_file = 'PNKD_CT-depth.h5'"
   ]
  },
  {
   "cell_type": "code",
   "execution_count": 2,
   "metadata": {},
   "outputs": [],
   "source": [
    "import h5py\n",
    "\n",
    "hf = h5py.File(h5_file,'r')\n",
    "y_col = [n.decode('unicode_escape') for n in hf['Tags']]\n",
    "x_col = range(len(y_col))\n",
    "max_len = len(hf['Instances'][0])\n",
    "hf.close()"
   ]
  },
  {
   "cell_type": "code",
   "execution_count": 3,
   "metadata": {},
   "outputs": [
    {
     "name": "stdout",
     "output_type": "stream",
     "text": [
      "[name: \"/device:CPU:0\"\n",
      "device_type: \"CPU\"\n",
      "memory_limit: 268435456\n",
      "locality {\n",
      "}\n",
      "incarnation: 180834912357368706\n",
      ", name: \"/device:GPU:0\"\n",
      "device_type: \"GPU\"\n",
      "memory_limit: 6574322484\n",
      "locality {\n",
      "  bus_id: 1\n",
      "  links {\n",
      "  }\n",
      "}\n",
      "incarnation: 16239212465664372937\n",
      "physical_device_desc: \"device: 0, name: GeForce RTX 2080 SUPER, pci bus id: 0000:09:00.0, compute capability: 7.5\"\n",
      "]\n"
     ]
    }
   ],
   "source": [
    "from tensorflow.python.client import device_lib\n",
    "print(device_lib.list_local_devices())"
   ]
  },
  {
   "cell_type": "code",
   "execution_count": 4,
   "metadata": {},
   "outputs": [],
   "source": [
    "from sklearn.preprocessing import LabelBinarizer\n",
    "\n",
    "l_encoder = LabelBinarizer()\n",
    "y_col_one_hot = l_encoder.fit_transform(y_col)"
   ]
  },
  {
   "cell_type": "code",
   "execution_count": 5,
   "metadata": {},
   "outputs": [],
   "source": [
    "from sklearn.model_selection import train_test_split\n",
    "x_train, x_test, y_train, y_test = train_test_split(x_col,y_col_one_hot,test_size=0.2,random_state=0)"
   ]
  },
  {
   "cell_type": "code",
   "execution_count": 6,
   "metadata": {},
   "outputs": [
    {
     "name": "stderr",
     "output_type": "stream",
     "text": [
      "Using TensorFlow backend.\n"
     ]
    }
   ],
   "source": [
    "import keras\n",
    "from keras.models import Sequential,Input,Model\n",
    "from keras.layers import Dense, Dropout, Flatten\n",
    "from keras.layers import Conv2D, MaxPooling2D\n",
    "from keras.layers.normalization import BatchNormalization\n",
    "from keras.layers.advanced_activations import LeakyReLU\n",
    "\n",
    "from keras.layers import LSTM, TimeDistributed\n",
    "from keras.layers import Convolution2D\n",
    "from keras.layers import Masking\n",
    "\n",
    "batch_size = 200\n",
    "epochs = 50\n",
    "num_classes = 5"
   ]
  },
  {
   "cell_type": "code",
   "execution_count": 7,
   "metadata": {},
   "outputs": [
    {
     "name": "stdout",
     "output_type": "stream",
     "text": [
      "WARNING:tensorflow:From C:\\Users\\MHaas\\.conda\\envs\\gait_tags\\lib\\site-packages\\keras\\backend\\tensorflow_backend.py:74: The name tf.get_default_graph is deprecated. Please use tf.compat.v1.get_default_graph instead.\n",
      "\n",
      "WARNING:tensorflow:From C:\\Users\\MHaas\\.conda\\envs\\gait_tags\\lib\\site-packages\\keras\\backend\\tensorflow_backend.py:517: The name tf.placeholder is deprecated. Please use tf.compat.v1.placeholder instead.\n",
      "\n",
      "WARNING:tensorflow:From C:\\Users\\MHaas\\.conda\\envs\\gait_tags\\lib\\site-packages\\keras\\backend\\tensorflow_backend.py:4138: The name tf.random_uniform is deprecated. Please use tf.random.uniform instead.\n",
      "\n",
      "WARNING:tensorflow:From C:\\Users\\MHaas\\.conda\\envs\\gait_tags\\lib\\site-packages\\keras\\backend\\tensorflow_backend.py:4185: The name tf.truncated_normal is deprecated. Please use tf.random.truncated_normal instead.\n",
      "\n",
      "WARNING:tensorflow:From C:\\Users\\MHaas\\.conda\\envs\\gait_tags\\lib\\site-packages\\keras\\backend\\tensorflow_backend.py:3976: The name tf.nn.max_pool is deprecated. Please use tf.nn.max_pool2d instead.\n",
      "\n",
      "WARNING:tensorflow:From C:\\Users\\MHaas\\.conda\\envs\\gait_tags\\lib\\site-packages\\keras\\backend\\tensorflow_backend.py:133: The name tf.placeholder_with_default is deprecated. Please use tf.compat.v1.placeholder_with_default instead.\n",
      "\n",
      "WARNING:tensorflow:From C:\\Users\\MHaas\\.conda\\envs\\gait_tags\\lib\\site-packages\\keras\\backend\\tensorflow_backend.py:3445: calling dropout (from tensorflow.python.ops.nn_ops) with keep_prob is deprecated and will be removed in a future version.\n",
      "Instructions for updating:\n",
      "Please use `rate` instead of `keep_prob`. Rate should be set to `rate = 1 - keep_prob`.\n",
      "WARNING:tensorflow:Large dropout rate: 0.7 (>0.5). In TensorFlow 2.x, dropout() uses dropout rate instead of keep_prob. Please ensure that this is intended.\n",
      "WARNING:tensorflow:From C:\\Users\\MHaas\\.conda\\envs\\gait_tags\\lib\\site-packages\\keras\\backend\\tensorflow_backend.py:2974: where (from tensorflow.python.ops.array_ops) is deprecated and will be removed in a future version.\n",
      "Instructions for updating:\n",
      "Use tf.where in 2.0, which has the same broadcast rule as np.where\n",
      "WARNING:tensorflow:From C:\\Users\\MHaas\\.conda\\envs\\gait_tags\\lib\\site-packages\\keras\\optimizers.py:790: The name tf.train.Optimizer is deprecated. Please use tf.compat.v1.train.Optimizer instead.\n",
      "\n",
      "WARNING:tensorflow:From C:\\Users\\MHaas\\.conda\\envs\\gait_tags\\lib\\site-packages\\keras\\backend\\tensorflow_backend.py:3295: The name tf.log is deprecated. Please use tf.math.log instead.\n",
      "\n",
      "_________________________________________________________________\n",
      "Layer (type)                 Output Shape              Param #   \n",
      "=================================================================\n",
      "time_distributed_1 (TimeDist (None, None, 40, 40, 32)  1600      \n",
      "_________________________________________________________________\n",
      "time_distributed_2 (TimeDist (None, None, 38, 38, 32)  9248      \n",
      "_________________________________________________________________\n",
      "time_distributed_3 (TimeDist (None, None, 19, 19, 32)  0         \n",
      "_________________________________________________________________\n",
      "time_distributed_4 (TimeDist (None, None, 19, 19, 64)  18496     \n",
      "_________________________________________________________________\n",
      "time_distributed_5 (TimeDist (None, None, 19, 19, 64)  36928     \n",
      "_________________________________________________________________\n",
      "time_distributed_6 (TimeDist (None, None, 9, 9, 64)    0         \n",
      "_________________________________________________________________\n",
      "time_distributed_7 (TimeDist (None, None, 9, 9, 128)   73856     \n",
      "_________________________________________________________________\n",
      "time_distributed_8 (TimeDist (None, None, 9, 9, 128)   147584    \n",
      "_________________________________________________________________\n",
      "time_distributed_9 (TimeDist (None, None, 4, 4, 128)   0         \n",
      "_________________________________________________________________\n",
      "time_distributed_10 (TimeDis (None, None, 4, 4, 256)   295168    \n",
      "_________________________________________________________________\n",
      "time_distributed_11 (TimeDis (None, None, 4, 4, 256)   590080    \n",
      "_________________________________________________________________\n",
      "time_distributed_12 (TimeDis (None, None, 2, 2, 256)   0         \n",
      "_________________________________________________________________\n",
      "time_distributed_13 (TimeDis (None, None, 1024)        0         \n",
      "_________________________________________________________________\n",
      "dropout_1 (Dropout)          (None, None, 1024)        0         \n",
      "_________________________________________________________________\n",
      "masking_1 (Masking)          (None, None, 1024)        0         \n",
      "_________________________________________________________________\n",
      "lstm_1 (LSTM)                (None, 512)               3147776   \n",
      "_________________________________________________________________\n",
      "dense_1 (Dense)              (None, 5)                 2565      \n",
      "=================================================================\n",
      "Total params: 4,323,301\n",
      "Trainable params: 4,323,301\n",
      "Non-trainable params: 0\n",
      "_________________________________________________________________\n"
     ]
    }
   ],
   "source": [
    "model = Sequential()\n",
    "\n",
    "model.add(TimeDistributed(Convolution2D(32, (7,7), strides=(2, 2),\n",
    "    #padding='same', activation='relu'), input_shape=self.input_shape))\n",
    "    padding='same', activation='relu'), input_shape=(None,80,80,1)))\n",
    "model.add(TimeDistributed(Convolution2D(32, (3,3),\n",
    "    kernel_initializer=\"he_normal\", activation='relu')))\n",
    "model.add(TimeDistributed(MaxPooling2D((2, 2), strides=(2, 2))))\n",
    "\n",
    "model.add(TimeDistributed(Convolution2D(64, (3,3),\n",
    "    padding='same', activation='relu')))\n",
    "model.add(TimeDistributed(Convolution2D(64, (3,3),\n",
    "    padding='same', activation='relu')))\n",
    "model.add(TimeDistributed(MaxPooling2D((2, 2), strides=(2, 2))))\n",
    "\n",
    "model.add(TimeDistributed(Convolution2D(128, (3,3),\n",
    "    padding='same', activation='relu')))\n",
    "model.add(TimeDistributed(Convolution2D(128, (3,3),\n",
    "    padding='same', activation='relu')))\n",
    "model.add(TimeDistributed(MaxPooling2D((2, 2), strides=(2, 2))))\n",
    "\n",
    "model.add(TimeDistributed(Convolution2D(256, (3,3),\n",
    "    padding='same', activation='relu')))\n",
    "model.add(TimeDistributed(Convolution2D(256, (3,3),\n",
    "    padding='same', activation='relu')))\n",
    "model.add(TimeDistributed(MaxPooling2D((2, 2), strides=(2, 2))))\n",
    "\n",
    "model.add(TimeDistributed(Flatten()))\n",
    "\n",
    "model.add(Dropout(0.7))\n",
    "model.add(Masking(mask_value=-10))\n",
    "#model.add(Masking(mask_value=-0.1))\n",
    "model.add(LSTM(512, return_sequences=False, dropout=0.5))\n",
    "model.add(Dense(num_classes, activation='softmax'))\n",
    "\n",
    "model.compile(loss=keras.losses.categorical_crossentropy, optimizer=keras.optimizers.Adam(),metrics=['accuracy'])\n",
    "model.summary()"
   ]
  },
  {
   "cell_type": "code",
   "execution_count": 8,
   "metadata": {},
   "outputs": [],
   "source": [
    "import numpy as np\n",
    "\n",
    "def h5_image_generator(h5_file,indices,labels,bs,cs,max_len,mode='train'):\n",
    "    index = 0\n",
    "    hf = h5py.File(h5_file,'r')\n",
    "    while True:\n",
    "        batch_insts = np.full((bs,max_len,80,80,1),-10)\n",
    "        batch_labels = np.zeros((bs,cs))\n",
    "        for i in range(bs):\n",
    "            if len(indices) <= index:\n",
    "                index = 0\n",
    "                if mode == 'eval':\n",
    "                    break\n",
    "            batch_insts[i] = hf['Instances'][indices[index]]\n",
    "            batch_labels[i] = labels[index]\n",
    "            index += 1\n",
    "        yield(batch_insts,batch_labels)"
   ]
  },
  {
   "cell_type": "code",
   "execution_count": 9,
   "metadata": {},
   "outputs": [],
   "source": [
    "train_gen = h5_image_generator(h5_file,x_train,y_train,batch_size,\n",
    "                               num_classes,max_len)\n",
    "test_gen = h5_image_generator(h5_file,x_test,y_test,batch_size,\n",
    "                              num_classes,max_len)"
   ]
  },
  {
   "cell_type": "code",
   "execution_count": 10,
   "metadata": {
    "scrolled": true
   },
   "outputs": [
    {
     "name": "stdout",
     "output_type": "stream",
     "text": [
      "WARNING:tensorflow:From C:\\Users\\MHaas\\.conda\\envs\\gait_tags\\lib\\site-packages\\keras\\backend\\tensorflow_backend.py:986: The name tf.assign_add is deprecated. Please use tf.compat.v1.assign_add instead.\n",
      "\n",
      "WARNING:tensorflow:From C:\\Users\\MHaas\\.conda\\envs\\gait_tags\\lib\\site-packages\\keras\\backend\\tensorflow_backend.py:973: The name tf.assign is deprecated. Please use tf.compat.v1.assign instead.\n",
      "\n",
      "WARNING:tensorflow:From C:\\Users\\MHaas\\.conda\\envs\\gait_tags\\lib\\site-packages\\keras\\backend\\tensorflow_backend.py:2741: The name tf.Session is deprecated. Please use tf.compat.v1.Session instead.\n",
      "\n",
      "Epoch 1/50\n",
      "WARNING:tensorflow:From C:\\Users\\MHaas\\.conda\\envs\\gait_tags\\lib\\site-packages\\keras\\backend\\tensorflow_backend.py:174: The name tf.get_default_session is deprecated. Please use tf.compat.v1.get_default_session instead.\n",
      "\n",
      "WARNING:tensorflow:From C:\\Users\\MHaas\\.conda\\envs\\gait_tags\\lib\\site-packages\\keras\\backend\\tensorflow_backend.py:181: The name tf.ConfigProto is deprecated. Please use tf.compat.v1.ConfigProto instead.\n",
      "\n",
      "WARNING:tensorflow:From C:\\Users\\MHaas\\.conda\\envs\\gait_tags\\lib\\site-packages\\keras\\backend\\tensorflow_backend.py:190: The name tf.global_variables is deprecated. Please use tf.compat.v1.global_variables instead.\n",
      "\n",
      "WARNING:tensorflow:From C:\\Users\\MHaas\\.conda\\envs\\gait_tags\\lib\\site-packages\\keras\\backend\\tensorflow_backend.py:199: The name tf.is_variable_initialized is deprecated. Please use tf.compat.v1.is_variable_initialized instead.\n",
      "\n",
      "WARNING:tensorflow:From C:\\Users\\MHaas\\.conda\\envs\\gait_tags\\lib\\site-packages\\keras\\backend\\tensorflow_backend.py:206: The name tf.variables_initializer is deprecated. Please use tf.compat.v1.variables_initializer instead.\n",
      "\n",
      "1286/1286 [==============================] - 1027s 798ms/step - loss: 0.8037 - acc: 0.6664 - val_loss: 0.6232 - val_acc: 0.7575\n",
      "Epoch 2/50\n",
      "1286/1286 [==============================] - 1037s 806ms/step - loss: 0.5967 - acc: 0.7660 - val_loss: 0.5601 - val_acc: 0.7762\n",
      "Epoch 3/50\n",
      "1286/1286 [==============================] - 1014s 789ms/step - loss: 0.5345 - acc: 0.7899 - val_loss: 0.4968 - val_acc: 0.8045\n",
      "Epoch 4/50\n",
      "1286/1286 [==============================] - 1012s 787ms/step - loss: 0.5028 - acc: 0.8026 - val_loss: 0.4705 - val_acc: 0.8152\n",
      "Epoch 5/50\n",
      "1286/1286 [==============================] - 1012s 787ms/step - loss: 0.4802 - acc: 0.8114 - val_loss: 0.4592 - val_acc: 0.8193\n",
      "Epoch 6/50\n",
      "1286/1286 [==============================] - 1012s 787ms/step - loss: 0.4654 - acc: 0.8183 - val_loss: 0.4527 - val_acc: 0.8222\n",
      "Epoch 7/50\n",
      "1286/1286 [==============================] - 1012s 787ms/step - loss: 0.4498 - acc: 0.8242 - val_loss: 0.4633 - val_acc: 0.8156\n",
      "Epoch 8/50\n",
      "1286/1286 [==============================] - 1010s 785ms/step - loss: 0.4406 - acc: 0.8277 - val_loss: 0.4563 - val_acc: 0.8197\n",
      "Epoch 9/50\n",
      "1286/1286 [==============================] - 1011s 786ms/step - loss: 0.4305 - acc: 0.8315 - val_loss: 0.4457 - val_acc: 0.8255\n",
      "Epoch 10/50\n",
      "1286/1286 [==============================] - 1122s 872ms/step - loss: 0.4242 - acc: 0.8335 - val_loss: 0.4456 - val_acc: 0.8279\n",
      "Epoch 11/50\n",
      "1286/1286 [==============================] - 1018s 792ms/step - loss: 0.4209 - acc: 0.8360 - val_loss: 0.4516 - val_acc: 0.8249\n",
      "Epoch 12/50\n",
      "1286/1286 [==============================] - 1009s 785ms/step - loss: 0.4110 - acc: 0.8383 - val_loss: 0.4293 - val_acc: 0.8330\n",
      "Epoch 13/50\n",
      "1286/1286 [==============================] - 1015s 789ms/step - loss: 0.4061 - acc: 0.8407 - val_loss: 0.4243 - val_acc: 0.8353\n",
      "Epoch 14/50\n",
      "1286/1286 [==============================] - 1025s 797ms/step - loss: 0.4007 - acc: 0.8432 - val_loss: 0.4391 - val_acc: 0.8315\n",
      "Epoch 15/50\n",
      "1286/1286 [==============================] - 1012s 787ms/step - loss: 0.3945 - acc: 0.8451 - val_loss: 0.4311 - val_acc: 0.8328\n",
      "Epoch 16/50\n",
      "1286/1286 [==============================] - 1098s 854ms/step - loss: 0.3935 - acc: 0.8457 - val_loss: 0.4403 - val_acc: 0.8314\n",
      "Epoch 17/50\n",
      "1286/1286 [==============================] - 1012s 787ms/step - loss: 0.3900 - acc: 0.8471 - val_loss: 0.4320 - val_acc: 0.8341\n",
      "Epoch 18/50\n",
      "1286/1286 [==============================] - 1081s 841ms/step - loss: 0.3854 - acc: 0.8479 - val_loss: 0.4422 - val_acc: 0.8293\n",
      "Epoch 19/50\n",
      "1286/1286 [==============================] - 1051s 817ms/step - loss: 0.3844 - acc: 0.8496 - val_loss: 0.4515 - val_acc: 0.8276\n",
      "Epoch 20/50\n",
      "1286/1286 [==============================] - 1013s 787ms/step - loss: 0.3836 - acc: 0.8495 - val_loss: 0.4272 - val_acc: 0.8358\n",
      "Epoch 21/50\n",
      "1286/1286 [==============================] - 1071s 833ms/step - loss: 0.3839 - acc: 0.8498 - val_loss: 0.4329 - val_acc: 0.8332\n",
      "Epoch 22/50\n",
      "1286/1286 [==============================] - 1014s 788ms/step - loss: 0.3793 - acc: 0.8513 - val_loss: 0.4329 - val_acc: 0.8323\n",
      "Epoch 23/50\n",
      "1286/1286 [==============================] - 1019s 792ms/step - loss: 0.3752 - acc: 0.8530 - val_loss: 0.4173 - val_acc: 0.8397\n",
      "Epoch 24/50\n",
      "1286/1286 [==============================] - 1040s 809ms/step - loss: 0.3737 - acc: 0.8539 - val_loss: 0.4296 - val_acc: 0.8347\n",
      "Epoch 25/50\n",
      "1286/1286 [==============================] - 1046s 813ms/step - loss: 0.3745 - acc: 0.8526 - val_loss: 0.4524 - val_acc: 0.8257\n",
      "Epoch 26/50\n",
      "1286/1286 [==============================] - 1025s 797ms/step - loss: 0.3744 - acc: 0.8532 - val_loss: 0.4314 - val_acc: 0.8346\n",
      "Epoch 27/50\n",
      "1286/1286 [==============================] - 1012s 787ms/step - loss: 0.3723 - acc: 0.8546 - val_loss: 0.4440 - val_acc: 0.8289\n",
      "Epoch 28/50\n",
      "1286/1286 [==============================] - 1013s 788ms/step - loss: 0.3726 - acc: 0.8531 - val_loss: 0.4301 - val_acc: 0.8347\n",
      "Epoch 29/50\n",
      "1286/1286 [==============================] - 1027s 798ms/step - loss: 0.3710 - acc: 0.8544 - val_loss: 0.4594 - val_acc: 0.8246\n",
      "Epoch 30/50\n",
      "1286/1286 [==============================] - 1011s 786ms/step - loss: 0.3722 - acc: 0.8536 - val_loss: 0.4290 - val_acc: 0.8350\n",
      "Epoch 31/50\n",
      "1286/1286 [==============================] - 1012s 787ms/step - loss: 0.3721 - acc: 0.8539 - val_loss: 0.4375 - val_acc: 0.8329\n",
      "Epoch 32/50\n",
      "1286/1286 [==============================] - 1031s 802ms/step - loss: 0.3709 - acc: 0.8536 - val_loss: 0.4349 - val_acc: 0.8325\n",
      "Epoch 33/50\n",
      "1286/1286 [==============================] - 1011s 786ms/step - loss: 0.3669 - acc: 0.8562 - val_loss: 0.4318 - val_acc: 0.8357\n",
      "Epoch 34/50\n",
      "1286/1286 [==============================] - 1104s 858ms/step - loss: 0.3675 - acc: 0.8556 - val_loss: 0.4360 - val_acc: 0.8339\n",
      "Epoch 35/50\n",
      "1286/1286 [==============================] - 1055s 821ms/step - loss: 0.3671 - acc: 0.8556 - val_loss: 0.4370 - val_acc: 0.8332\n",
      "Epoch 36/50\n",
      "1286/1286 [==============================] - 1011s 786ms/step - loss: 0.3648 - acc: 0.8574 - val_loss: 0.4230 - val_acc: 0.8393\n",
      "Epoch 37/50\n",
      "1286/1286 [==============================] - 1092s 849ms/step - loss: 0.3653 - acc: 0.8566 - val_loss: 0.4281 - val_acc: 0.8356\n",
      "Epoch 38/50\n",
      "1286/1286 [==============================] - 1012s 787ms/step - loss: 0.3654 - acc: 0.8570 - val_loss: 0.4290 - val_acc: 0.8371\n",
      "Epoch 39/50\n",
      "1286/1286 [==============================] - 1025s 797ms/step - loss: 0.3645 - acc: 0.8574 - val_loss: 0.4358 - val_acc: 0.8344\n",
      "Epoch 40/50\n",
      "1286/1286 [==============================] - 1033s 803ms/step - loss: 0.3639 - acc: 0.8571 - val_loss: 0.4256 - val_acc: 0.8390\n",
      "Epoch 41/50\n",
      "1286/1286 [==============================] - 1013s 788ms/step - loss: 0.3653 - acc: 0.8568 - val_loss: 0.4362 - val_acc: 0.8338\n",
      "Epoch 42/50\n",
      "1286/1286 [==============================] - 1014s 788ms/step - loss: 0.3645 - acc: 0.8568 - val_loss: 0.4348 - val_acc: 0.8341\n",
      "Epoch 43/50\n",
      "1286/1286 [==============================] - 1011s 786ms/step - loss: 0.3631 - acc: 0.8579 - val_loss: 0.4299 - val_acc: 0.8357\n",
      "Epoch 44/50\n",
      "1286/1286 [==============================] - 1010s 785ms/step - loss: 0.3634 - acc: 0.8575 - val_loss: 0.4247 - val_acc: 0.8370\n",
      "Epoch 45/50\n",
      "1286/1286 [==============================] - 1048s 815ms/step - loss: 0.3594 - acc: 0.8591 - val_loss: 0.4274 - val_acc: 0.8362\n",
      "Epoch 46/50\n",
      "1286/1286 [==============================] - 1010s 786ms/step - loss: 0.3607 - acc: 0.8585 - val_loss: 0.4641 - val_acc: 0.8227\n",
      "Epoch 47/50\n"
     ]
    },
    {
     "name": "stdout",
     "output_type": "stream",
     "text": [
      "1286/1286 [==============================] - 1011s 786ms/step - loss: 0.3626 - acc: 0.8579 - val_loss: 0.4279 - val_acc: 0.8381\n",
      "Epoch 48/50\n",
      "1286/1286 [==============================] - 1010s 785ms/step - loss: 0.3626 - acc: 0.8579 - val_loss: 0.4398 - val_acc: 0.8320\n",
      "Epoch 49/50\n",
      "1286/1286 [==============================] - 1117s 869ms/step - loss: 0.3602 - acc: 0.8588 - val_loss: 0.4242 - val_acc: 0.8381\n",
      "Epoch 50/50\n",
      "1286/1286 [==============================] - 1093s 850ms/step - loss: 0.3643 - acc: 0.8575 - val_loss: 0.4353 - val_acc: 0.8337\n"
     ]
    }
   ],
   "source": [
    "H = model.fit_generator(\n",
    "    train_gen,\n",
    "    steps_per_epoch = len(x_train) // batch_size,\n",
    "    validation_data = test_gen,\n",
    "    validation_steps = len(x_test) // batch_size,\n",
    "    epochs = epochs)"
   ]
  },
  {
   "cell_type": "code",
   "execution_count": 11,
   "metadata": {},
   "outputs": [],
   "source": [
    "hf.close() #MIGHT NOT DO ANYTHING, APPARENTLY FILE REMAINS OPEN IN PYHTON"
   ]
  },
  {
   "cell_type": "code",
   "execution_count": 12,
   "metadata": {},
   "outputs": [
    {
     "data": {
      "image/png": "[encoded data removed]",
      "text/plain": [
       "<Figure size 432x288 with 1 Axes>"
      ]
     },
     "metadata": {
      "needs_background": "light"
     },
     "output_type": "display_data"
    }
   ],
   "source": [
    "from matplotlib import pyplot as plt\n",
    "\n",
    "loss = H.history['loss']\n",
    "val_loss = H.history['val_loss']\n",
    "plt.figure()\n",
    "plt.plot(range(epochs), loss, 'bo', label='Training loss')\n",
    "plt.plot(range(epochs), val_loss, 'b', label='Validation loss')\n",
    "plt.title('Training and validation loss')\n",
    "plt.legend()\n",
    "plt.savefig('H_results_lrcn4_'+str(epochs)+'e.png')\n",
    "plt.show()"
   ]
  },
  {
   "cell_type": "code",
   "execution_count": 13,
   "metadata": {},
   "outputs": [],
   "source": [
    "model.save('lrcn4_'+str(epochs)+'e.h5')"
   ]
  },
  {
   "cell_type": "code",
   "execution_count": 14,
   "metadata": {},
   "outputs": [],
   "source": [
    "from keras.utils import plot_model\n",
    "plot_model(model, to_file='lrcn4_model_'+str(epochs)+'e.png')"
   ]
  },
  {
   "cell_type": "code",
   "execution_count": 15,
   "metadata": {},
   "outputs": [
    {
     "data": {
      "image/png": "[encoded data removed]",
      "text/plain": [
       "<Figure size 432x288 with 1 Axes>"
      ]
     },
     "metadata": {
      "needs_background": "light"
     },
     "output_type": "display_data"
    }
   ],
   "source": [
    "acc = H.history['acc']\n",
    "val_acc = H.history['val_acc']\n",
    "plt.figure()\n",
    "plt.plot(range(epochs), acc, 'bo', label='Training accuracy')\n",
    "plt.plot(range(epochs), val_acc, 'b', label='Validation accuracy')\n",
    "plt.title('Training and validation accuracy')\n",
    "plt.legend()\n",
    "plt.savefig('H_accuracy_results_lrcn4_'+str(epochs)+'e.png')\n",
    "plt.show()"
   ]
  },
  {
   "cell_type": "code",
   "execution_count": null,
   "metadata": {},
   "outputs": [],
   "source": []
  }
 ],
 "metadata": {
  "kernelspec": {
   "display_name": "Python 3",
   "language": "python",
   "name": "python3"
  },
  "language_info": {
   "codemirror_mode": {
    "name": "ipython",
    "version": 3
   },
   "file_extension": ".py",
   "mimetype": "text/x-python",
   "name": "python",
   "nbconvert_exporter": "python",
   "pygments_lexer": "ipython3",
   "version": "3.6.9"
  }
 },
 "nbformat": 4,
 "nbformat_minor": 2
}
